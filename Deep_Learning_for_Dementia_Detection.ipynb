{
  "nbformat": 4,
  "nbformat_minor": 0,
  "metadata": {
    "colab": {
      "provenance": [],
      "machine_shape": "hm",
      "gpuType": "A100",
      "authorship_tag": "ABX9TyOHF4OIrNiNfk8VYGdiBbQv",
      "include_colab_link": true
    },
    "kernelspec": {
      "name": "python3",
      "display_name": "Python 3"
    },
    "language_info": {
      "name": "python"
    },
    "accelerator": "GPU"
  },
  "cells": [
    {
      "cell_type": "markdown",
      "metadata": {
        "id": "view-in-github",
        "colab_type": "text"
      },
      "source": [
        "<a href=\"https://colab.research.google.com/github/JKEVIN2010/Deep-Learning-and-Early-Dementia-Detection/blob/main/Deep_Learning_for_Dementia_Detection.ipynb\" target=\"_parent\"><img src=\"https://colab.research.google.com/assets/colab-badge.svg\" alt=\"Open In Colab\"/></a>"
      ]
    },
    {
      "cell_type": "code",
      "source": [
        "# Import necessary libraries\n",
        "import pandas as pd\n",
        "import numpy as np\n",
        "import nltk\n",
        "import re\n",
        "import os\n",
        "import matplotlib.pyplot as plt\n",
        "\n",
        "# For model building\n",
        "from tensorflow.keras.preprocessing.sequence import pad_sequences\n",
        "from tensorflow.keras.layers import Input, Dense, Lambda, Embedding, Flatten, Conv2D, MaxPooling2D, Dropout, InputLayer\n",
        "from tensorflow.keras.models import Model, Sequential\n",
        "from tensorflow.keras.optimizers import Adam\n",
        "import tensorflow.keras.backend as K\n",
        "\n",
        "# For image processing\n",
        "from tensorflow.keras.preprocessing.image import load_img, img_to_array\n",
        "\n",
        "# For evaluation\n",
        "from sklearn.model_selection import train_test_split\n",
        "from sklearn.metrics import classification_report, confusion_matrix\n",
        "\n",
        "# Download NLTK data files\n",
        "nltk.download('punkt')\n"
      ],
      "metadata": {
        "colab": {
          "base_uri": "https://localhost:8080/"
        },
        "id": "_puSgqDos8Ff",
        "outputId": "97288539-ae8c-41c4-ddf1-cece3026bc8d"
      },
      "execution_count": null,
      "outputs": [
        {
          "output_type": "stream",
          "name": "stderr",
          "text": [
            "[nltk_data] Downloading package punkt to /root/nltk_data...\n",
            "[nltk_data]   Package punkt is already up-to-date!\n"
          ]
        },
        {
          "output_type": "execute_result",
          "data": {
            "text/plain": [
              "True"
            ]
          },
          "metadata": {},
          "execution_count": 1
        }
      ]
    },
    {
      "cell_type": "code",
      "source": [
        "# Load the dataset\n",
        "df = pd.read_csv('cookie.csv')  # Ensure 'cookie.csv' is in your working directory\n",
        "\n",
        "# Display the first few rows\n",
        "print(df.head())\n"
      ],
      "metadata": {
        "colab": {
          "base_uri": "https://localhost:8080/"
        },
        "id": "BeDXu3HKs-Xb",
        "outputId": "73ae8781-a5df-44ce-f1ec-bcdf918f1be4"
      },
      "execution_count": null,
      "outputs": [
        {
          "output_type": "stream",
          "name": "stdout",
          "text": [
            "   Unnamed: 0                                               utts  labels\n",
            "0         142  well â€¡ the stool is falling over . the boy i...       0\n",
            "1         355  these two little kids are getting cookies out ...       1\n",
            "2          79  mhm . there is a boy and a girl and the boy is...       0\n",
            "3         366  the girls trying  ... did I get that ? and gir...       1\n",
            "4         215  there is a girl waiting to get a cookie from I...       0\n"
          ]
        }
      ]
    },
    {
      "cell_type": "code",
      "source": [
        "# Define a function for text preprocessing\n",
        "def preprocess_text(text):\n",
        "    # Remove unwanted special characters if necessary\n",
        "    text = re.sub(r'[^a-zA-Z0-9\\s.,?!]', '', text)\n",
        "    # Convert text to lowercase (optional)\n",
        "    text = text.lower()\n",
        "    # Tokenize text into characters\n",
        "    characters = list(text)\n",
        "    return characters\n",
        "\n",
        "# Apply preprocessing to the 'utts' column\n",
        "df['characters'] = df['utts'].apply(preprocess_text)\n",
        "\n",
        "# Display the processed characters\n",
        "print(df[['utts', 'characters']].head())\n"
      ],
      "metadata": {
        "colab": {
          "base_uri": "https://localhost:8080/"
        },
        "id": "3E8sksVutDGA",
        "outputId": "e807050f-3a0a-4c06-95e2-b8637e62ae1e"
      },
      "execution_count": null,
      "outputs": [
        {
          "output_type": "stream",
          "name": "stdout",
          "text": [
            "                                                utts  \\\n",
            "0  well â€¡ the stool is falling over . the boy i...   \n",
            "1  these two little kids are getting cookies out ...   \n",
            "2  mhm . there is a boy and a girl and the boy is...   \n",
            "3  the girls trying  ... did I get that ? and gir...   \n",
            "4  there is a girl waiting to get a cookie from I...   \n",
            "\n",
            "                                          characters  \n",
            "0  [w, e, l, l,  ,  , t, h, e,  , s, t, o, o, l, ...  \n",
            "1  [t, h, e, s, e,  , t, w, o,  , l, i, t, t, l, ...  \n",
            "2  [m, h, m,  , .,  , t, h, e, r, e,  , i, s,  , ...  \n",
            "3  [t, h, e,  , g, i, r, l, s,  , t, r, y, i, n, ...  \n",
            "4  [t, h, e, r, e,  , i, s,  , a,  , g, i, r, l, ...  \n"
          ]
        }
      ]
    },
    {
      "cell_type": "code",
      "source": [
        "# Create a set of all unique characters in the dataset\n",
        "all_characters = set()\n",
        "for chars in df['characters']:\n",
        "    all_characters.update(chars)\n",
        "char_list = sorted(list(all_characters))\n",
        "print(f\"Unique characters: {char_list}\")\n",
        "\n",
        "# Create a mapping from character to index\n",
        "char_to_index = {char: idx for idx, char in enumerate(char_list)}\n",
        "index_to_char = {idx: char for char, idx in char_to_index.items()}\n",
        "\n",
        "# Define the vocabulary size\n",
        "vocab_size = len(char_list)\n",
        "print(f\"Vocabulary size (number of unique characters): {vocab_size}\")\n",
        "\n",
        "# Function to convert characters to one-hot embeddings\n",
        "def characters_to_onehot(characters):\n",
        "    indices = [char_to_index[char] for char in characters]\n",
        "    onehot_embeddings = np.eye(vocab_size)[indices]\n",
        "    return onehot_embeddings\n",
        "\n",
        "# Apply the function to create a new column with embeddings\n",
        "df['embeddings'] = df['characters'].apply(characters_to_onehot)\n",
        "\n",
        "# Display the embeddings\n",
        "print(df[['characters', 'embeddings']].head())\n"
      ],
      "metadata": {
        "colab": {
          "base_uri": "https://localhost:8080/"
        },
        "id": "kQaea1Yu1DEw",
        "outputId": "d5d2b779-2152-440c-b0dd-368d294e44b9"
      },
      "execution_count": null,
      "outputs": [
        {
          "output_type": "stream",
          "name": "stdout",
          "text": [
            "Unique characters: [' ', '!', ',', '.', '?', 'a', 'b', 'c', 'd', 'e', 'f', 'g', 'h', 'i', 'j', 'k', 'l', 'm', 'n', 'o', 'p', 'q', 'r', 's', 't', 'u', 'v', 'w', 'x', 'y', 'z']\n",
            "Vocabulary size (number of unique characters): 31\n",
            "                                          characters  \\\n",
            "0  [w, e, l, l,  ,  , t, h, e,  , s, t, o, o, l, ...   \n",
            "1  [t, h, e, s, e,  , t, w, o,  , l, i, t, t, l, ...   \n",
            "2  [m, h, m,  , .,  , t, h, e, r, e,  , i, s,  , ...   \n",
            "3  [t, h, e,  , g, i, r, l, s,  , t, r, y, i, n, ...   \n",
            "4  [t, h, e, r, e,  , i, s,  , a,  , g, i, r, l, ...   \n",
            "\n",
            "                                          embeddings  \n",
            "0  [[0.0, 0.0, 0.0, 0.0, 0.0, 0.0, 0.0, 0.0, 0.0,...  \n",
            "1  [[0.0, 0.0, 0.0, 0.0, 0.0, 0.0, 0.0, 0.0, 0.0,...  \n",
            "2  [[0.0, 0.0, 0.0, 0.0, 0.0, 0.0, 0.0, 0.0, 0.0,...  \n",
            "3  [[0.0, 0.0, 0.0, 0.0, 0.0, 0.0, 0.0, 0.0, 0.0,...  \n",
            "4  [[0.0, 0.0, 0.0, 0.0, 0.0, 0.0, 0.0, 0.0, 0.0,...  \n"
          ]
        }
      ]
    },
    {
      "cell_type": "code",
      "source": [
        "# Convert characters to indices\n",
        "def characters_to_indices(characters):\n",
        "    indices = [char_to_index[char] for char in characters]\n",
        "    return indices\n",
        "\n",
        "# Apply the function to create a new column with indices\n",
        "df['char_indices'] = df['characters'].apply(characters_to_indices)\n",
        "\n",
        "# Determine the maximum sequence length\n",
        "sequence_lengths = df['char_indices'].apply(len)\n",
        "max_sequence_length = int(sequence_lengths.max())\n",
        "print(f\"Maximum sequence length set to: {max_sequence_length}\")\n",
        "\n",
        "# Pad or truncate the sequences\n",
        "df['padded_indices'] = pad_sequences(\n",
        "    df['char_indices'],\n",
        "    maxlen=max_sequence_length,\n",
        "    padding='post',\n",
        "    truncating='post'\n",
        ").tolist()\n",
        "\n",
        "# Display the padded indices\n",
        "print(df[['char_indices', 'padded_indices']].head())\n"
      ],
      "metadata": {
        "colab": {
          "base_uri": "https://localhost:8080/"
        },
        "id": "Rv6f-rXb397H",
        "outputId": "3d459d76-d092-4171-99cc-a21d353a5d7a"
      },
      "execution_count": null,
      "outputs": [
        {
          "output_type": "stream",
          "name": "stdout",
          "text": [
            "Maximum sequence length set to: 2544\n",
            "                                        char_indices  \\\n",
            "0  [27, 9, 16, 16, 0, 0, 24, 12, 9, 0, 23, 24, 19...   \n",
            "1  [24, 12, 9, 23, 9, 0, 24, 27, 19, 0, 16, 13, 2...   \n",
            "2  [17, 12, 17, 0, 3, 0, 24, 12, 9, 22, 9, 0, 13,...   \n",
            "3  [24, 12, 9, 0, 11, 13, 22, 16, 23, 0, 24, 22, ...   \n",
            "4  [24, 12, 9, 22, 9, 0, 13, 23, 0, 5, 0, 11, 13,...   \n",
            "\n",
            "                                      padded_indices  \n",
            "0  [27, 9, 16, 16, 0, 0, 24, 12, 9, 0, 23, 24, 19...  \n",
            "1  [24, 12, 9, 23, 9, 0, 24, 27, 19, 0, 16, 13, 2...  \n",
            "2  [17, 12, 17, 0, 3, 0, 24, 12, 9, 22, 9, 0, 13,...  \n",
            "3  [24, 12, 9, 0, 11, 13, 22, 16, 23, 0, 24, 22, ...  \n",
            "4  [24, 12, 9, 22, 9, 0, 13, 23, 0, 5, 0, 11, 13,...  \n"
          ]
        }
      ]
    },
    {
      "cell_type": "code",
      "source": [
        "# Function to compute the recurrence matrix from embeddings\n",
        "def calculate_recurrence_matrix(sequence, epsilon=None):\n",
        "    sequence = np.array(sequence)\n",
        "    N = sequence.shape[0]\n",
        "    # Compute the distance matrix\n",
        "    distance_matrix = np.linalg.norm(sequence[:, None, :] - sequence[None, :, :], axis=2)\n",
        "    if epsilon is None:\n",
        "        epsilon = 0.1 * np.std(distance_matrix)\n",
        "        if epsilon == 0:\n",
        "            epsilon = 0.001\n",
        "    recurrence_matrix = np.zeros((N, N))\n",
        "    recurrence_matrix[distance_matrix <= epsilon] = 1\n",
        "    return recurrence_matrix\n"
      ],
      "metadata": {
        "id": "awCUV2e2tnvd"
      },
      "execution_count": null,
      "outputs": []
    },
    {
      "cell_type": "code",
      "source": [
        "# Initialize an embedding layer\n",
        "embedding_dim = 32  # You can choose the dimension\n",
        "embedding_layer = Embedding(input_dim=vocab_size, output_dim=embedding_dim, input_length=max_sequence_length)\n",
        "\n",
        "# Build a model to get embeddings\n",
        "input_seq = Input(shape=(max_sequence_length,))\n",
        "embedded_seq = embedding_layer(input_seq)\n",
        "embedding_model = Model(inputs=input_seq, outputs=embedded_seq)\n",
        "\n",
        "# Get the embeddings for all sequences\n",
        "padded_indices_array = np.array(df['padded_indices'].tolist())\n",
        "embeddings = embedding_model.predict(padded_indices_array)\n",
        "\n",
        "# embeddings shape: (num_samples, median_sequence_length, embedding_dim)\n"
      ],
      "metadata": {
        "colab": {
          "base_uri": "https://localhost:8080/"
        },
        "id": "dApDGzJmt24O",
        "outputId": "c1e87ede-0e49-4b97-b64b-387f845ca3ac"
      },
      "execution_count": null,
      "outputs": [
        {
          "output_type": "stream",
          "name": "stderr",
          "text": [
            "/usr/local/lib/python3.10/dist-packages/keras/src/layers/core/embedding.py:90: UserWarning: Argument `input_length` is deprecated. Just remove it.\n",
            "  warnings.warn(\n"
          ]
        },
        {
          "output_type": "stream",
          "name": "stdout",
          "text": [
            "\u001b[1m18/18\u001b[0m \u001b[32m━━━━━━━━━━━━━━━━━━━━\u001b[0m\u001b[37m\u001b[0m \u001b[1m0s\u001b[0m 8ms/step\n"
          ]
        }
      ]
    },
    {
      "cell_type": "code",
      "source": [
        "# Directory to save recurrence plots\n",
        "recurrence_plots_dir = 'recurrence_plots_characters'\n",
        "if not os.path.exists(recurrence_plots_dir):\n",
        "    os.makedirs(recurrence_plots_dir)\n",
        "\n",
        "# Function to save recurrence plots\n",
        "def save_recurrence_plot(recurrence_matrix, file_name):\n",
        "    plt.figure(figsize=(4, 4))\n",
        "    plt.imshow(recurrence_matrix, cmap='binary', origin='lower')\n",
        "    plt.axis('off')\n",
        "    plt.savefig(file_name, bbox_inches='tight', pad_inches=0)\n",
        "    plt.close()\n",
        "\n",
        "# Generate and save recurrence plots\n",
        "print(\"\\nGenerating and saving recurrence plots...\")\n",
        "for i, (index, row) in enumerate(df.iterrows()):\n",
        "    label = 'Dementia' if row['labels'] == 0 else 'Healthy'\n",
        "    sample_indices = row['padded_indices']\n",
        "    # Get the embeddings for the sample\n",
        "    if 'embeddings' in df.columns:\n",
        "        # If using one-hot embeddings\n",
        "        sample_embeddings = row['embeddings']\n",
        "    else:\n",
        "        # If using learnable embeddings\n",
        "        sample_embeddings = embeddings[i]\n",
        "    # Compute the recurrence matrix\n",
        "    recurrence_matrix = calculate_recurrence_matrix(sample_embeddings)\n",
        "    # Define the filename\n",
        "    file_name = os.path.join(recurrence_plots_dir, f'sample_{i}_{label}.png')\n",
        "    # Save the recurrence plot\n",
        "    save_recurrence_plot(recurrence_matrix, file_name)\n",
        "print(\"Recurrence plots generated and saved.\")\n"
      ],
      "metadata": {
        "colab": {
          "base_uri": "https://localhost:8080/"
        },
        "id": "JkLVOQ_0t7_F",
        "outputId": "ddfbffd3-2c11-4ed6-93d5-ce5376e8f457"
      },
      "execution_count": null,
      "outputs": [
        {
          "output_type": "stream",
          "name": "stdout",
          "text": [
            "\n",
            "Generating and saving recurrence plots...\n",
            "Recurrence plots generated and saved.\n"
          ]
        }
      ]
    },
    {
      "cell_type": "code",
      "source": [
        "# Function to load images and labels\n",
        "def load_images(image_folder, target_size=(128, 128)):\n",
        "    images = []\n",
        "    labels = []\n",
        "    for file_name in sorted(os.listdir(image_folder)):\n",
        "        if file_name.endswith('.png'):\n",
        "            img_path = os.path.join(image_folder, file_name)\n",
        "            img = load_img(img_path, target_size=target_size, color_mode='grayscale')\n",
        "            img_array = img_to_array(img) / 255.0  # Normalize to [0, 1]\n",
        "            images.append(img_array)\n",
        "            label = 0 if 'Dementia' in file_name else 1\n",
        "            labels.append(label)\n",
        "    return np.array(images), np.array(labels)\n",
        "\n",
        "# Load images and labels\n",
        "images, labels = load_images(recurrence_plots_dir)\n",
        "\n",
        "# Verify the shapes\n",
        "print(f'\\nImages shape: {images.shape}')\n",
        "print(f'Labels shape: {labels.shape}')\n"
      ],
      "metadata": {
        "colab": {
          "base_uri": "https://localhost:8080/"
        },
        "id": "guZuSXsDugVt",
        "outputId": "41e38deb-1db0-4ba6-f47c-8bc9403b7637"
      },
      "execution_count": null,
      "outputs": [
        {
          "output_type": "stream",
          "name": "stdout",
          "text": [
            "\n",
            "Images shape: (552, 128, 128, 1)\n",
            "Labels shape: (552,)\n"
          ]
        }
      ]
    },
    {
      "cell_type": "code",
      "source": [
        "# Split the data into training and validation sets\n",
        "X_train, X_val, y_train, y_val = train_test_split(\n",
        "    images, labels, test_size=0.2, random_state=42, stratify=labels)\n",
        "\n",
        "# Verify the shapes\n",
        "print(f\"X_train shape: {X_train.shape}\")\n",
        "print(f\"X_val shape: {X_val.shape}\")\n",
        "print(f\"y_train shape: {y_train.shape}\")\n",
        "print(f\"y_val shape: {y_val.shape}\")\n"
      ],
      "metadata": {
        "colab": {
          "base_uri": "https://localhost:8080/"
        },
        "id": "XP0kXKbGuke6",
        "outputId": "dde2d1df-4ec6-4606-c1d9-0f6f3d92ab2d"
      },
      "execution_count": null,
      "outputs": [
        {
          "output_type": "stream",
          "name": "stdout",
          "text": [
            "X_train shape: (441, 128, 128, 1)\n",
            "X_val shape: (111, 128, 128, 1)\n",
            "y_train shape: (441,)\n",
            "y_val shape: (111,)\n"
          ]
        }
      ]
    },
    {
      "cell_type": "code",
      "source": [
        "# Option 1: Deep Metric Learning With Siamese Network\n",
        "def create_pairs(images, labels):\n",
        "    pairs = []\n",
        "    pair_labels = []\n",
        "    num_classes = len(np.unique(labels))\n",
        "    class_indices = [np.where(labels == i)[0] for i in range(num_classes)]\n",
        "    min_samples = min([len(class_indices[i]) for i in range(num_classes)]) - 1\n",
        "\n",
        "    for idx in range(min_samples):\n",
        "        for class_idx in range(num_classes):\n",
        "            # Positive pair (same class)\n",
        "            anchor_idx = class_indices[class_idx][idx]\n",
        "            positive_idx = class_indices[class_idx][idx + 1]\n",
        "            pairs.append([images[anchor_idx], images[positive_idx]])\n",
        "            pair_labels.append(1)\n",
        "\n",
        "            # Negative pair (different class)\n",
        "            negative_class_idx = (class_idx + 1) % num_classes\n",
        "            negative_idx = class_indices[negative_class_idx][idx]\n",
        "            pairs.append([images[anchor_idx], images[negative_idx]])\n",
        "            pair_labels.append(0)\n",
        "    return np.array(pairs), np.array(pair_labels)\n",
        "\n",
        "# Create pairs and labels\n",
        "pairs, pair_labels = create_pairs(images, labels)\n"
      ],
      "metadata": {
        "id": "aHfa2VLVuuQR"
      },
      "execution_count": null,
      "outputs": []
    },
    {
      "cell_type": "code",
      "source": [
        "# Define the base network\n",
        "def create_base_network(input_shape):\n",
        "    input = Input(shape=input_shape)\n",
        "    x = Conv2D(32, (3, 3), activation='relu')(input)\n",
        "    x = MaxPooling2D((2, 2))(x)\n",
        "    x = Conv2D(64, (3, 3), activation='relu')(x)\n",
        "    x = MaxPooling2D((2, 2))(x)\n",
        "    x = Flatten()(x)\n",
        "    x = Dense(128, activation='relu')(x)\n",
        "    return Model(input, x)\n",
        "\n",
        "input_shape = (128, 128, 1)\n",
        "base_network = create_base_network(input_shape)\n",
        "\n",
        "# Inputs for the pairs\n",
        "input_a = Input(shape=input_shape)\n",
        "input_b = Input(shape=input_shape)\n",
        "\n",
        "# Process inputs through the base network\n",
        "processed_a = base_network(input_a)\n",
        "processed_b = base_network(input_b)\n",
        "\n",
        "# Compute Euclidean distance\n",
        "def euclidean_distance(vects):\n",
        "    x, y = vects\n",
        "    return K.sqrt(K.sum(K.square(x - y), axis=1, keepdims=True))\n",
        "\n",
        "distance = Lambda(euclidean_distance)([processed_a, processed_b])\n",
        "\n",
        "# Define the model\n",
        "model = Model([input_a, input_b], distance)\n",
        "\n",
        "# Define contrastive loss\n",
        "def contrastive_loss(y_true, y_pred):\n",
        "    margin = 1.0\n",
        "    return K.mean(y_true * K.square(y_pred) + (1 - y_true) * K.square(K.maximum(margin - y_pred, 0)))\n",
        "\n",
        "# Compile the model\n",
        "model.compile(loss=contrastive_loss, optimizer=Adam(learning_rate=0.001))\n"
      ],
      "metadata": {
        "id": "i4aSV65Wu8dM"
      },
      "execution_count": null,
      "outputs": []
    },
    {
      "cell_type": "code",
      "source": [
        "# Split into training and validation sets\n",
        "pairs_train, pairs_val, labels_train, labels_val = train_test_split(\n",
        "    pairs, pair_labels, test_size=0.2, random_state=42)\n",
        "\n",
        "# Unpack the pairs\n",
        "x_train_a = pairs_train[:, 0]\n",
        "x_train_b = pairs_train[:, 1]\n",
        "x_val_a = pairs_val[:, 0]\n",
        "x_val_b = pairs_val[:, 1]\n",
        "\n",
        "# Train the model\n",
        "history = model.fit(\n",
        "    [x_train_a, x_train_b], labels_train,\n",
        "    validation_data=([x_val_a, x_val_b], labels_val),\n",
        "    batch_size=16,\n",
        "    epochs=20\n",
        ")\n"
      ],
      "metadata": {
        "colab": {
          "base_uri": "https://localhost:8080/"
        },
        "id": "fJ1fc0qhu-yC",
        "outputId": "b55db20f-b163-441b-9743-439bf2227dd8"
      },
      "execution_count": null,
      "outputs": [
        {
          "output_type": "stream",
          "name": "stdout",
          "text": [
            "Epoch 1/20\n",
            "\u001b[1m49/49\u001b[0m \u001b[32m━━━━━━━━━━━━━━━━━━━━\u001b[0m\u001b[37m\u001b[0m \u001b[1m6s\u001b[0m 53ms/step - loss: 0.5858 - val_loss: 0.3311\n",
            "Epoch 2/20\n",
            "\u001b[1m49/49\u001b[0m \u001b[32m━━━━━━━━━━━━━━━━━━━━\u001b[0m\u001b[37m\u001b[0m \u001b[1m0s\u001b[0m 5ms/step - loss: 0.2981 - val_loss: 0.3318\n",
            "Epoch 3/20\n",
            "\u001b[1m49/49\u001b[0m \u001b[32m━━━━━━━━━━━━━━━━━━━━\u001b[0m\u001b[37m\u001b[0m \u001b[1m0s\u001b[0m 5ms/step - loss: 0.2392 - val_loss: 0.3190\n",
            "Epoch 4/20\n",
            "\u001b[1m49/49\u001b[0m \u001b[32m━━━━━━━━━━━━━━━━━━━━\u001b[0m\u001b[37m\u001b[0m \u001b[1m0s\u001b[0m 5ms/step - loss: 0.1902 - val_loss: 0.3245\n",
            "Epoch 5/20\n",
            "\u001b[1m49/49\u001b[0m \u001b[32m━━━━━━━━━━━━━━━━━━━━\u001b[0m\u001b[37m\u001b[0m \u001b[1m0s\u001b[0m 5ms/step - loss: 0.1575 - val_loss: 0.3376\n",
            "Epoch 6/20\n",
            "\u001b[1m49/49\u001b[0m \u001b[32m━━━━━━━━━━━━━━━━━━━━\u001b[0m\u001b[37m\u001b[0m \u001b[1m0s\u001b[0m 5ms/step - loss: 0.1329 - val_loss: 0.3256\n",
            "Epoch 7/20\n",
            "\u001b[1m49/49\u001b[0m \u001b[32m━━━━━━━━━━━━━━━━━━━━\u001b[0m\u001b[37m\u001b[0m \u001b[1m0s\u001b[0m 5ms/step - loss: 0.1193 - val_loss: 0.3475\n",
            "Epoch 8/20\n",
            "\u001b[1m49/49\u001b[0m \u001b[32m━━━━━━━━━━━━━━━━━━━━\u001b[0m\u001b[37m\u001b[0m \u001b[1m0s\u001b[0m 5ms/step - loss: 0.1097 - val_loss: 0.3378\n",
            "Epoch 9/20\n",
            "\u001b[1m49/49\u001b[0m \u001b[32m━━━━━━━━━━━━━━━━━━━━\u001b[0m\u001b[37m\u001b[0m \u001b[1m0s\u001b[0m 5ms/step - loss: 0.0926 - val_loss: 0.3385\n",
            "Epoch 10/20\n",
            "\u001b[1m49/49\u001b[0m \u001b[32m━━━━━━━━━━━━━━━━━━━━\u001b[0m\u001b[37m\u001b[0m \u001b[1m0s\u001b[0m 5ms/step - loss: 0.0895 - val_loss: 0.3762\n",
            "Epoch 11/20\n",
            "\u001b[1m49/49\u001b[0m \u001b[32m━━━━━━━━━━━━━━━━━━━━\u001b[0m\u001b[37m\u001b[0m \u001b[1m0s\u001b[0m 5ms/step - loss: 0.0721 - val_loss: 0.3887\n",
            "Epoch 12/20\n",
            "\u001b[1m49/49\u001b[0m \u001b[32m━━━━━━━━━━━━━━━━━━━━\u001b[0m\u001b[37m\u001b[0m \u001b[1m0s\u001b[0m 5ms/step - loss: 0.0655 - val_loss: 0.3682\n",
            "Epoch 13/20\n",
            "\u001b[1m49/49\u001b[0m \u001b[32m━━━━━━━━━━━━━━━━━━━━\u001b[0m\u001b[37m\u001b[0m \u001b[1m0s\u001b[0m 5ms/step - loss: 0.0541 - val_loss: 0.3669\n",
            "Epoch 14/20\n",
            "\u001b[1m49/49\u001b[0m \u001b[32m━━━━━━━━━━━━━━━━━━━━\u001b[0m\u001b[37m\u001b[0m \u001b[1m0s\u001b[0m 5ms/step - loss: 0.0453 - val_loss: 0.3659\n",
            "Epoch 15/20\n",
            "\u001b[1m49/49\u001b[0m \u001b[32m━━━━━━━━━━━━━━━━━━━━\u001b[0m\u001b[37m\u001b[0m \u001b[1m0s\u001b[0m 5ms/step - loss: 0.0417 - val_loss: 0.3642\n",
            "Epoch 16/20\n",
            "\u001b[1m49/49\u001b[0m \u001b[32m━━━━━━━━━━━━━━━━━━━━\u001b[0m\u001b[37m\u001b[0m \u001b[1m0s\u001b[0m 5ms/step - loss: 0.0380 - val_loss: 0.3519\n",
            "Epoch 17/20\n",
            "\u001b[1m49/49\u001b[0m \u001b[32m━━━━━━━━━━━━━━━━━━━━\u001b[0m\u001b[37m\u001b[0m \u001b[1m0s\u001b[0m 5ms/step - loss: 0.0330 - val_loss: 0.3652\n",
            "Epoch 18/20\n",
            "\u001b[1m49/49\u001b[0m \u001b[32m━━━━━━━━━━━━━━━━━━━━\u001b[0m\u001b[37m\u001b[0m \u001b[1m0s\u001b[0m 5ms/step - loss: 0.0315 - val_loss: 0.3605\n",
            "Epoch 19/20\n",
            "\u001b[1m49/49\u001b[0m \u001b[32m━━━━━━━━━━━━━━━━━━━━\u001b[0m\u001b[37m\u001b[0m \u001b[1m0s\u001b[0m 5ms/step - loss: 0.0265 - val_loss: 0.3755\n",
            "Epoch 20/20\n",
            "\u001b[1m49/49\u001b[0m \u001b[32m━━━━━━━━━━━━━━━━━━━━\u001b[0m\u001b[37m\u001b[0m \u001b[1m0s\u001b[0m 5ms/step - loss: 0.0237 - val_loss: 0.3666\n"
          ]
        }
      ]
    },
    {
      "cell_type": "code",
      "source": [
        "# Use the base network to extract embeddings\n",
        "embeddings = base_network.predict(images)\n",
        "\n",
        "# Visualize using t-SNE\n",
        "from sklearn.manifold import TSNE\n",
        "\n",
        "tsne = TSNE(n_components=2, random_state=42)\n",
        "embeddings_2d = tsne.fit_transform(embeddings)\n",
        "\n",
        "# Plot the embeddings\n",
        "import matplotlib.pyplot as plt\n",
        "\n",
        "plt.figure(figsize=(10, 8))\n",
        "plt.scatter(embeddings_2d[labels == 0, 0], embeddings_2d[labels == 0, 1],\n",
        "            label='Dementia', alpha=0.5, c='red')\n",
        "plt.scatter(embeddings_2d[labels == 1, 0], embeddings_2d[labels == 1, 1],\n",
        "            label='Healthy', alpha=0.5, c='blue')\n",
        "plt.legend()\n",
        "plt.title('t-SNE Visualization of Embeddings')\n",
        "plt.xlabel('Dimension 1')\n",
        "plt.ylabel('Dimension 2')\n",
        "plt.show()\n"
      ],
      "metadata": {
        "colab": {
          "base_uri": "https://localhost:8080/",
          "height": 735
        },
        "id": "mlwRdIutvTG7",
        "outputId": "3261d3d2-1bac-4e83-b22a-dfc4d588a9b8"
      },
      "execution_count": null,
      "outputs": [
        {
          "output_type": "stream",
          "name": "stdout",
          "text": [
            "\u001b[1m18/18\u001b[0m \u001b[32m━━━━━━━━━━━━━━━━━━━━\u001b[0m\u001b[37m\u001b[0m \u001b[1m1s\u001b[0m 18ms/step\n"
          ]
        },
        {
          "output_type": "display_data",
          "data": {
            "text/plain": [
              "<Figure size 1000x800 with 1 Axes>"
            ],
            "image/png": "[encoded data removed]"
          },
          "metadata": {}
        }
      ]
    },
    {
      "cell_type": "code",
      "source": [
        "# Split embeddings into training and validation sets\n",
        "embeddings_train, embeddings_val, labels_train, labels_val = train_test_split(\n",
        "    embeddings, labels, test_size=0.2, random_state=42)\n",
        "\n",
        "# Train a logistic regression classifier\n",
        "from sklearn.linear_model import LogisticRegression\n",
        "\n",
        "classifier = LogisticRegression(max_iter=1000)\n",
        "classifier.fit(embeddings_train, labels_train)\n",
        "\n",
        "# Predict on validation set\n",
        "labels_pred = classifier.predict(embeddings_val)\n",
        "\n",
        "# Evaluate the classifier\n",
        "print(\"Classification Report:\")\n",
        "print(classification_report(labels_val, labels_pred))\n",
        "\n",
        "# Confusion matrix\n",
        "conf_matrix = confusion_matrix(labels_val, labels_pred)\n",
        "print(\"Confusion Matrix:\")\n",
        "print(conf_matrix)\n"
      ],
      "metadata": {
        "colab": {
          "base_uri": "https://localhost:8080/"
        },
        "id": "qTZp766ZvlxC",
        "outputId": "4ab24b4d-bcf4-4d4d-c4e6-ff52f0ecf842"
      },
      "execution_count": null,
      "outputs": [
        {
          "output_type": "stream",
          "name": "stdout",
          "text": [
            "Classification Report:\n",
            "              precision    recall  f1-score   support\n",
            "\n",
            "           0       0.74      0.58      0.65        53\n",
            "           1       0.68      0.81      0.74        58\n",
            "\n",
            "    accuracy                           0.70       111\n",
            "   macro avg       0.71      0.70      0.70       111\n",
            "weighted avg       0.71      0.70      0.70       111\n",
            "\n",
            "Confusion Matrix:\n",
            "[[31 22]\n",
            " [11 47]]\n"
          ]
        }
      ]
    }
  ]
}